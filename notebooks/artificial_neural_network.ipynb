{
  "cells": [
    {
      "cell_type": "markdown",
      "metadata": {
        "colab_type": "text",
        "id": "lP6JLo1tGNBg"
      },
      "source": [
        "# Artificial Neural Network"
      ]
    },
    {
      "cell_type": "markdown",
      "metadata": {
        "colab_type": "text",
        "id": "gWZyYmS_UE_L"
      },
      "source": [
        "### Importing the libraries"
      ]
    },
    {
      "cell_type": "code",
      "execution_count": 27,
      "metadata": {
        "colab": {},
        "colab_type": "code",
        "id": "MxkJoQBkUIHC"
      },
      "outputs": [],
      "source": [
        "import numpy as np\n",
        "import pandas as pd\n",
        "import tensorflow as tf"
      ]
    },
    {
      "cell_type": "code",
      "execution_count": 28,
      "metadata": {
        "colab": {
          "base_uri": "https://localhost:8080/",
          "height": 34
        },
        "colab_type": "code",
        "id": "ZaTwK7ojXr2F",
        "outputId": "0b27a96d-d11a-43e8-ab4b-87c1f01896fe"
      },
      "outputs": [
        {
          "data": {
            "text/plain": [
              "'2.13.0'"
            ]
          },
          "execution_count": 28,
          "metadata": {},
          "output_type": "execute_result"
        }
      ],
      "source": [
        "tf.__version__"
      ]
    },
    {
      "cell_type": "markdown",
      "metadata": {
        "colab_type": "text",
        "id": "1E0Q3aoKUCRX"
      },
      "source": [
        "## Part 1 - Data Preprocessing"
      ]
    },
    {
      "cell_type": "markdown",
      "metadata": {
        "colab_type": "text",
        "id": "cKWAkFVGUU0Z"
      },
      "source": [
        "### Importing the dataset"
      ]
    },
    {
      "cell_type": "code",
      "execution_count": 29,
      "metadata": {
        "colab": {},
        "colab_type": "code",
        "id": "MXUkhkMfU4wq"
      },
      "outputs": [
        {
          "name": "stdout",
          "output_type": "stream",
          "text": [
            "Empty DataFrame\n",
            "Columns: [RowNumber, CustomerId, Surname, CreditScore, Geography, Gender, Age, Tenure, Balance, NumOfProducts, HasCrCard, IsActiveMember, EstimatedSalary, Exited]\n",
            "Index: []\n"
          ]
        }
      ],
      "source": [
        "dataset = pd.read_csv('../data/Churn_Modelling.csv')\n",
        "\n",
        "# when trainiug the model, we ignore irrelevant columns that don't have an impact in predictons (i.e. `customerId`, `surname`, etc)\n",
        "# also, the dependent variable (`exited`) is removed from the training data\n",
        "print(dataset.head(0))\n",
        "X = dataset.iloc[:, 3:-1].values\n",
        "y = dataset.iloc[:, -1].values"
      ]
    },
    {
      "cell_type": "code",
      "execution_count": 30,
      "metadata": {
        "colab": {
          "base_uri": "https://localhost:8080/",
          "height": 137
        },
        "colab_type": "code",
        "id": "VYP9cQTWbzuI",
        "outputId": "797e7a64-9bac-436a-8c9c-94437e5e7587"
      },
      "outputs": [
        {
          "name": "stdout",
          "output_type": "stream",
          "text": [
            "        0        1       2   3   4          5  6  7  8          9\n",
            "0     619   France  Female  42   2        0.0  1  1  1  101348.88\n",
            "1     608    Spain  Female  41   1   83807.86  1  0  1  112542.58\n",
            "2     502   France  Female  42   8   159660.8  3  1  0  113931.57\n",
            "3     699   France  Female  39   1        0.0  2  0  0   93826.63\n",
            "4     850    Spain  Female  43   2  125510.82  1  1  1    79084.1\n",
            "...   ...      ...     ...  ..  ..        ... .. .. ..        ...\n",
            "9995  771   France    Male  39   5        0.0  2  1  0   96270.64\n",
            "9996  516   France    Male  35  10   57369.61  1  1  1  101699.77\n",
            "9997  709   France  Female  36   7        0.0  1  0  1   42085.58\n",
            "9998  772  Germany    Male  42   3   75075.31  2  1  0   92888.52\n",
            "9999  792   France  Female  28   4  130142.79  1  1  0   38190.78\n",
            "\n",
            "[10000 rows x 10 columns]\n"
          ]
        }
      ],
      "source": [
        "# the independent variables\n",
        "print(pd.DataFrame(X))"
      ]
    },
    {
      "cell_type": "code",
      "execution_count": 31,
      "metadata": {
        "colab": {
          "base_uri": "https://localhost:8080/",
          "height": 34
        },
        "colab_type": "code",
        "id": "38vKGE6Nb2RR",
        "outputId": "a815e42a-e0dd-4cb5-ab97-b17ead98fbc3"
      },
      "outputs": [
        {
          "name": "stdout",
          "output_type": "stream",
          "text": [
            "      0\n",
            "0     1\n",
            "1     0\n",
            "2     1\n",
            "3     0\n",
            "4     0\n",
            "...  ..\n",
            "9995  0\n",
            "9996  0\n",
            "9997  1\n",
            "9998  1\n",
            "9999  0\n",
            "\n",
            "[10000 rows x 1 columns]\n"
          ]
        }
      ],
      "source": [
        "# the dependent variables\n",
        "print(pd.DataFrame(y))"
      ]
    },
    {
      "cell_type": "markdown",
      "metadata": {
        "colab_type": "text",
        "id": "N6bQ0UgSU-NJ"
      },
      "source": [
        "### Encoding categorical data\n",
        "\n",
        "Label encidong is used to encode column values into a numerical representation. This way you can feed it into the NN for computation.\n",
        "\n",
        "A brief overview of `Label` and `One-hot` (strange name), can be found here: \n",
        "\n",
        "https://towardsdatascience.com/categorical-encoding-using-label-encoding-and-one-hot-encoder-911ef77fb5bd"
      ]
    },
    {
      "cell_type": "markdown",
      "metadata": {
        "colab_type": "text",
        "id": "le5MJreAbW52"
      },
      "source": [
        "Label Encoding the \"Gender\" column\n",
        "\n",
        "This will replace `male`/`female` with `0` and `1` respectively."
      ]
    },
    {
      "cell_type": "code",
      "execution_count": 32,
      "metadata": {
        "colab": {},
        "colab_type": "code",
        "id": "PxVKWXxLbczC"
      },
      "outputs": [],
      "source": [
        "from sklearn.preprocessing import LabelEncoder\n",
        "le = LabelEncoder()\n",
        "X[:, 2] = le.fit_transform(X[:, 2])"
      ]
    },
    {
      "cell_type": "code",
      "execution_count": 33,
      "metadata": {
        "colab": {
          "base_uri": "https://localhost:8080/",
          "height": 137
        },
        "colab_type": "code",
        "id": "-M1KboxFb6OO",
        "outputId": "e2b8c7e8-0cbc-4cdf-f4eb-7f0853a00b88"
      },
      "outputs": [
        {
          "name": "stdout",
          "output_type": "stream",
          "text": [
            "      0\n",
            "0     0\n",
            "1     0\n",
            "2     0\n",
            "3     0\n",
            "4     0\n",
            "...  ..\n",
            "9995  1\n",
            "9996  1\n",
            "9997  0\n",
            "9998  1\n",
            "9999  0\n",
            "\n",
            "[10000 rows x 1 columns]\n"
          ]
        }
      ],
      "source": [
        "print(pd.DataFrame(X[:, 2]))"
      ]
    },
    {
      "cell_type": "markdown",
      "metadata": {
        "colab_type": "text",
        "id": "CUxGZezpbMcb"
      },
      "source": [
        "One Hot Encoding the \"Geography\" column\n",
        "\n",
        "This will create three new columns (since we started from three distinct geographic regions)."
      ]
    },
    {
      "cell_type": "code",
      "execution_count": 34,
      "metadata": {
        "colab": {},
        "colab_type": "code",
        "id": "AMXC8-KMVirw"
      },
      "outputs": [],
      "source": [
        "from sklearn.compose import ColumnTransformer\n",
        "from sklearn.preprocessing import OneHotEncoder\n",
        "ct = ColumnTransformer(transformers=[('encoder', OneHotEncoder(), [1])], remainder='passthrough')\n",
        "X = np.array(ct.fit_transform(X))"
      ]
    },
    {
      "cell_type": "code",
      "execution_count": 35,
      "metadata": {
        "colab": {
          "base_uri": "https://localhost:8080/",
          "height": 137
        },
        "colab_type": "code",
        "id": "ZcxwEon-b8nV",
        "outputId": "23a98af4-5e33-4b26-c27b-f06e3c5d2baf"
      },
      "outputs": [
        {
          "name": "stdout",
          "output_type": "stream",
          "text": [
            "        0    1    2\n",
            "0     1.0  0.0  0.0\n",
            "1     0.0  0.0  1.0\n",
            "2     1.0  0.0  0.0\n",
            "3     1.0  0.0  0.0\n",
            "4     0.0  0.0  1.0\n",
            "...   ...  ...  ...\n",
            "9995  1.0  0.0  0.0\n",
            "9996  1.0  0.0  0.0\n",
            "9997  1.0  0.0  0.0\n",
            "9998  0.0  1.0  0.0\n",
            "9999  1.0  0.0  0.0\n",
            "\n",
            "[10000 rows x 3 columns]\n"
          ]
        }
      ],
      "source": [
        "# the newly added columns\n",
        "print(pd.DataFrame(X[:, :3]))"
      ]
    },
    {
      "cell_type": "markdown",
      "metadata": {
        "colab_type": "text",
        "id": "vHol938cW8zd"
      },
      "source": [
        "### Splitting the dataset into the Training set and Test set"
      ]
    },
    {
      "cell_type": "code",
      "execution_count": 36,
      "metadata": {
        "colab": {},
        "colab_type": "code",
        "id": "Z-TDt0Y_XEfc"
      },
      "outputs": [],
      "source": [
        "from sklearn.model_selection import train_test_split\n",
        "X_train, X_test, y_train, y_test = train_test_split(X, y, test_size = 0.2, random_state = 0)"
      ]
    },
    {
      "cell_type": "markdown",
      "metadata": {
        "colab_type": "text",
        "id": "RE_FcHyfV3TQ"
      },
      "source": [
        "### Feature Scaling\n",
        "\n",
        "Scale the input features of a dataset to ensure that they are on a similar scale. This process can have a significant impact on the training process and the performance of the NN\n",
        "\n",
        "For a more elaborate explanation see https://www.analyticsvidhya.com/blog/2020/04/feature-scaling-machine-learning-normalization-standardization/"
      ]
    },
    {
      "cell_type": "code",
      "execution_count": 37,
      "metadata": {
        "colab": {},
        "colab_type": "code",
        "id": "ViCrE00rV8Sk"
      },
      "outputs": [],
      "source": [
        "from sklearn.preprocessing import StandardScaler\n",
        "sc = StandardScaler()\n",
        "X_train = sc.fit_transform(X_train)\n",
        "X_test = sc.transform(X_test)"
      ]
    },
    {
      "cell_type": "markdown",
      "metadata": {},
      "source": [
        "#### Here, we store the scaler for later use during inference"
      ]
    },
    {
      "cell_type": "code",
      "execution_count": 38,
      "metadata": {},
      "outputs": [],
      "source": [
        "import pickle\n",
        "\n",
        "# in prod, we should probaly serialize sc & model state for later use during inference.\n",
        "pickle.dump(sc, open('scaler.pkl', 'wb'))"
      ]
    },
    {
      "cell_type": "markdown",
      "metadata": {
        "colab_type": "text",
        "id": "KvdeScabXtlB"
      },
      "source": [
        "### Initializing the ANN"
      ]
    },
    {
      "cell_type": "code",
      "execution_count": 39,
      "metadata": {
        "colab": {},
        "colab_type": "code",
        "id": "3dtrScHxXQox"
      },
      "outputs": [],
      "source": [
        "ann = tf.keras.models.Sequential()"
      ]
    },
    {
      "cell_type": "markdown",
      "metadata": {
        "colab_type": "text",
        "id": "rP6urV6SX7kS"
      },
      "source": [
        "### Adding the input layer and the first hidden layer"
      ]
    },
    {
      "cell_type": "code",
      "execution_count": 40,
      "metadata": {
        "colab": {},
        "colab_type": "code",
        "id": "bppGycBXYCQr"
      },
      "outputs": [],
      "source": [
        "ann.add(tf.keras.layers.Dense(units=6, activation='relu'))"
      ]
    },
    {
      "cell_type": "markdown",
      "metadata": {
        "colab_type": "text",
        "id": "BELWAc_8YJze"
      },
      "source": [
        "### Adding the second hidden layer"
      ]
    },
    {
      "cell_type": "code",
      "execution_count": 41,
      "metadata": {
        "colab": {},
        "colab_type": "code",
        "id": "JneR0u0sYRTd"
      },
      "outputs": [],
      "source": [
        "ann.add(tf.keras.layers.Dense(units=6, activation='relu'))"
      ]
    },
    {
      "cell_type": "markdown",
      "metadata": {
        "colab_type": "text",
        "id": "OyNEe6RXYcU4"
      },
      "source": [
        "### Adding the output layer"
      ]
    },
    {
      "cell_type": "code",
      "execution_count": 42,
      "metadata": {
        "colab": {},
        "colab_type": "code",
        "id": "Cn3x41RBYfvY"
      },
      "outputs": [],
      "source": [
        "ann.add(tf.keras.layers.Dense(units=1, activation='sigmoid'))"
      ]
    },
    {
      "cell_type": "markdown",
      "metadata": {
        "colab_type": "text",
        "id": "JT4u2S1_Y4WG"
      },
      "source": [
        "## Part 3 - Training the ANN"
      ]
    },
    {
      "cell_type": "markdown",
      "metadata": {
        "colab_type": "text",
        "id": "8GWlJChhY_ZI"
      },
      "source": [
        "### Compiling the ANN"
      ]
    },
    {
      "cell_type": "code",
      "execution_count": 43,
      "metadata": {
        "colab": {},
        "colab_type": "code",
        "id": "fG3RrwDXZEaS"
      },
      "outputs": [],
      "source": [
        "ann.compile(optimizer = 'adam', loss = 'binary_crossentropy', metrics = ['accuracy'])"
      ]
    },
    {
      "cell_type": "markdown",
      "metadata": {
        "colab_type": "text",
        "id": "0QR_G5u7ZLSM"
      },
      "source": [
        "### Training the ANN on the Training set"
      ]
    },
    {
      "cell_type": "code",
      "execution_count": 44,
      "metadata": {
        "colab": {
          "base_uri": "https://localhost:8080/",
          "height": 1000
        },
        "colab_type": "code",
        "id": "nHZ-LKv_ZRb3",
        "outputId": "718cc4b0-b5aa-40f0-9b20-d3d31730a531"
      },
      "outputs": [
        {
          "name": "stdout",
          "output_type": "stream",
          "text": [
            "Epoch 1/100\n",
            "250/250 [==============================] - 1s 858us/step - loss: 0.5767 - accuracy: 0.7613\n",
            "Epoch 2/100\n",
            "250/250 [==============================] - 0s 878us/step - loss: 0.4807 - accuracy: 0.7952\n",
            "Epoch 3/100\n",
            "250/250 [==============================] - 0s 861us/step - loss: 0.4523 - accuracy: 0.7954\n",
            "Epoch 4/100\n",
            "250/250 [==============================] - 0s 850us/step - loss: 0.4411 - accuracy: 0.7954\n",
            "Epoch 5/100\n",
            "250/250 [==============================] - 0s 849us/step - loss: 0.4340 - accuracy: 0.7986\n",
            "Epoch 6/100\n",
            "250/250 [==============================] - 0s 836us/step - loss: 0.4286 - accuracy: 0.8056\n",
            "Epoch 7/100\n",
            "250/250 [==============================] - 0s 878us/step - loss: 0.4243 - accuracy: 0.8110\n",
            "Epoch 8/100\n",
            "250/250 [==============================] - 0s 852us/step - loss: 0.4204 - accuracy: 0.8141\n",
            "Epoch 9/100\n",
            "250/250 [==============================] - 0s 840us/step - loss: 0.4176 - accuracy: 0.8185\n",
            "Epoch 10/100\n",
            "250/250 [==============================] - 0s 857us/step - loss: 0.4149 - accuracy: 0.8190\n",
            "Epoch 11/100\n",
            "250/250 [==============================] - 0s 846us/step - loss: 0.4122 - accuracy: 0.8206\n",
            "Epoch 12/100\n",
            "250/250 [==============================] - 0s 842us/step - loss: 0.4095 - accuracy: 0.8226\n",
            "Epoch 13/100\n",
            "250/250 [==============================] - 0s 856us/step - loss: 0.4069 - accuracy: 0.8250\n",
            "Epoch 14/100\n",
            "250/250 [==============================] - 0s 845us/step - loss: 0.4039 - accuracy: 0.8248\n",
            "Epoch 15/100\n",
            "250/250 [==============================] - 0s 881us/step - loss: 0.4004 - accuracy: 0.8278\n",
            "Epoch 16/100\n",
            "250/250 [==============================] - 0s 874us/step - loss: 0.3972 - accuracy: 0.8313\n",
            "Epoch 17/100\n",
            "250/250 [==============================] - 0s 851us/step - loss: 0.3936 - accuracy: 0.8325\n",
            "Epoch 18/100\n",
            "250/250 [==============================] - 0s 838us/step - loss: 0.3906 - accuracy: 0.8349\n",
            "Epoch 19/100\n",
            "250/250 [==============================] - 0s 856us/step - loss: 0.3877 - accuracy: 0.8382\n",
            "Epoch 20/100\n",
            "250/250 [==============================] - 0s 855us/step - loss: 0.3848 - accuracy: 0.8388\n",
            "Epoch 21/100\n",
            "250/250 [==============================] - 0s 852us/step - loss: 0.3821 - accuracy: 0.8393\n",
            "Epoch 22/100\n",
            "250/250 [==============================] - 0s 969us/step - loss: 0.3791 - accuracy: 0.8399\n",
            "Epoch 23/100\n",
            "250/250 [==============================] - 0s 888us/step - loss: 0.3764 - accuracy: 0.8421\n",
            "Epoch 24/100\n",
            "250/250 [==============================] - 0s 833us/step - loss: 0.3745 - accuracy: 0.8411\n",
            "Epoch 25/100\n",
            "250/250 [==============================] - 0s 869us/step - loss: 0.3726 - accuracy: 0.8414\n",
            "Epoch 26/100\n",
            "250/250 [==============================] - 0s 838us/step - loss: 0.3710 - accuracy: 0.8422\n",
            "Epoch 27/100\n",
            "250/250 [==============================] - 0s 852us/step - loss: 0.3693 - accuracy: 0.8445\n",
            "Epoch 28/100\n",
            "250/250 [==============================] - 0s 841us/step - loss: 0.3677 - accuracy: 0.8449\n",
            "Epoch 29/100\n",
            "250/250 [==============================] - 0s 855us/step - loss: 0.3660 - accuracy: 0.8455\n",
            "Epoch 30/100\n",
            "250/250 [==============================] - 0s 838us/step - loss: 0.3642 - accuracy: 0.8456\n",
            "Epoch 31/100\n",
            "250/250 [==============================] - 0s 890us/step - loss: 0.3629 - accuracy: 0.8469\n",
            "Epoch 32/100\n",
            "250/250 [==============================] - 0s 848us/step - loss: 0.3618 - accuracy: 0.8476\n",
            "Epoch 33/100\n",
            "250/250 [==============================] - 0s 828us/step - loss: 0.3604 - accuracy: 0.8484\n",
            "Epoch 34/100\n",
            "250/250 [==============================] - 0s 853us/step - loss: 0.3598 - accuracy: 0.8479\n",
            "Epoch 35/100\n",
            "250/250 [==============================] - 0s 836us/step - loss: 0.3584 - accuracy: 0.8506\n",
            "Epoch 36/100\n",
            "250/250 [==============================] - 0s 839us/step - loss: 0.3578 - accuracy: 0.8499\n",
            "Epoch 37/100\n",
            "250/250 [==============================] - 0s 862us/step - loss: 0.3567 - accuracy: 0.8494\n",
            "Epoch 38/100\n",
            "250/250 [==============================] - 0s 837us/step - loss: 0.3563 - accuracy: 0.8495\n",
            "Epoch 39/100\n",
            "250/250 [==============================] - 0s 875us/step - loss: 0.3555 - accuracy: 0.8519\n",
            "Epoch 40/100\n",
            "250/250 [==============================] - 0s 835us/step - loss: 0.3549 - accuracy: 0.8495\n",
            "Epoch 41/100\n",
            "250/250 [==============================] - 0s 877us/step - loss: 0.3545 - accuracy: 0.8499\n",
            "Epoch 42/100\n",
            "250/250 [==============================] - 0s 864us/step - loss: 0.3537 - accuracy: 0.8508\n",
            "Epoch 43/100\n",
            "250/250 [==============================] - 0s 838us/step - loss: 0.3533 - accuracy: 0.8516\n",
            "Epoch 44/100\n",
            "250/250 [==============================] - 0s 838us/step - loss: 0.3534 - accuracy: 0.8504\n",
            "Epoch 45/100\n",
            "250/250 [==============================] - 0s 833us/step - loss: 0.3531 - accuracy: 0.8520\n",
            "Epoch 46/100\n",
            "250/250 [==============================] - 0s 845us/step - loss: 0.3522 - accuracy: 0.8529\n",
            "Epoch 47/100\n",
            "250/250 [==============================] - 0s 837us/step - loss: 0.3517 - accuracy: 0.8533\n",
            "Epoch 48/100\n",
            "250/250 [==============================] - 0s 862us/step - loss: 0.3514 - accuracy: 0.8541\n",
            "Epoch 49/100\n",
            "250/250 [==============================] - 0s 851us/step - loss: 0.3514 - accuracy: 0.8519\n",
            "Epoch 50/100\n",
            "250/250 [==============================] - 0s 839us/step - loss: 0.3511 - accuracy: 0.8531\n",
            "Epoch 51/100\n",
            "250/250 [==============================] - 0s 1ms/step - loss: 0.3505 - accuracy: 0.8524\n",
            "Epoch 52/100\n",
            "250/250 [==============================] - 0s 836us/step - loss: 0.3506 - accuracy: 0.8541\n",
            "Epoch 53/100\n",
            "250/250 [==============================] - 0s 844us/step - loss: 0.3503 - accuracy: 0.8535\n",
            "Epoch 54/100\n",
            "250/250 [==============================] - 0s 839us/step - loss: 0.3497 - accuracy: 0.8561\n",
            "Epoch 55/100\n",
            "250/250 [==============================] - 0s 883us/step - loss: 0.3496 - accuracy: 0.8554\n",
            "Epoch 56/100\n",
            "250/250 [==============================] - 0s 851us/step - loss: 0.3493 - accuracy: 0.8536\n",
            "Epoch 57/100\n",
            "250/250 [==============================] - 0s 839us/step - loss: 0.3489 - accuracy: 0.8553\n",
            "Epoch 58/100\n",
            "250/250 [==============================] - 0s 875us/step - loss: 0.3489 - accuracy: 0.8549\n",
            "Epoch 59/100\n",
            "250/250 [==============================] - 0s 842us/step - loss: 0.3485 - accuracy: 0.8534\n",
            "Epoch 60/100\n",
            "250/250 [==============================] - 0s 871us/step - loss: 0.3482 - accuracy: 0.8549\n",
            "Epoch 61/100\n",
            "250/250 [==============================] - 0s 843us/step - loss: 0.3479 - accuracy: 0.8544\n",
            "Epoch 62/100\n",
            "250/250 [==============================] - 0s 832us/step - loss: 0.3480 - accuracy: 0.8545\n",
            "Epoch 63/100\n",
            "250/250 [==============================] - 0s 831us/step - loss: 0.3474 - accuracy: 0.8561\n",
            "Epoch 64/100\n",
            "250/250 [==============================] - 0s 835us/step - loss: 0.3473 - accuracy: 0.8558\n",
            "Epoch 65/100\n",
            "250/250 [==============================] - 0s 871us/step - loss: 0.3468 - accuracy: 0.8577\n",
            "Epoch 66/100\n",
            "250/250 [==============================] - 0s 831us/step - loss: 0.3468 - accuracy: 0.8559\n",
            "Epoch 67/100\n",
            "250/250 [==============================] - 0s 895us/step - loss: 0.3468 - accuracy: 0.8572\n",
            "Epoch 68/100\n",
            "250/250 [==============================] - 0s 837us/step - loss: 0.3465 - accuracy: 0.8569\n",
            "Epoch 69/100\n",
            "250/250 [==============================] - 0s 919us/step - loss: 0.3462 - accuracy: 0.8572\n",
            "Epoch 70/100\n",
            "250/250 [==============================] - 0s 930us/step - loss: 0.3460 - accuracy: 0.8554\n",
            "Epoch 71/100\n",
            "250/250 [==============================] - 0s 838us/step - loss: 0.3460 - accuracy: 0.8546\n",
            "Epoch 72/100\n",
            "250/250 [==============================] - 0s 847us/step - loss: 0.3456 - accuracy: 0.8560\n",
            "Epoch 73/100\n",
            "250/250 [==============================] - 0s 832us/step - loss: 0.3458 - accuracy: 0.8572\n",
            "Epoch 74/100\n",
            "250/250 [==============================] - 0s 842us/step - loss: 0.3457 - accuracy: 0.8559\n",
            "Epoch 75/100\n",
            "250/250 [==============================] - 0s 837us/step - loss: 0.3452 - accuracy: 0.8569\n",
            "Epoch 76/100\n",
            "250/250 [==============================] - 0s 836us/step - loss: 0.3450 - accuracy: 0.8591\n",
            "Epoch 77/100\n",
            "250/250 [==============================] - 0s 864us/step - loss: 0.3450 - accuracy: 0.8577\n",
            "Epoch 78/100\n",
            "250/250 [==============================] - 0s 862us/step - loss: 0.3451 - accuracy: 0.8585\n",
            "Epoch 79/100\n",
            "250/250 [==============================] - 0s 908us/step - loss: 0.3450 - accuracy: 0.8581\n",
            "Epoch 80/100\n",
            "250/250 [==============================] - 0s 859us/step - loss: 0.3445 - accuracy: 0.8569\n",
            "Epoch 81/100\n",
            "250/250 [==============================] - 0s 846us/step - loss: 0.3447 - accuracy: 0.8577\n",
            "Epoch 82/100\n",
            "250/250 [==============================] - 0s 833us/step - loss: 0.3447 - accuracy: 0.8587\n",
            "Epoch 83/100\n",
            "250/250 [==============================] - 0s 856us/step - loss: 0.3445 - accuracy: 0.8580\n",
            "Epoch 84/100\n",
            "250/250 [==============================] - 0s 835us/step - loss: 0.3442 - accuracy: 0.8574\n",
            "Epoch 85/100\n",
            "250/250 [==============================] - 0s 863us/step - loss: 0.3441 - accuracy: 0.8581\n",
            "Epoch 86/100\n",
            "250/250 [==============================] - 0s 859us/step - loss: 0.3440 - accuracy: 0.8566\n",
            "Epoch 87/100\n",
            "250/250 [==============================] - 0s 847us/step - loss: 0.3434 - accuracy: 0.8586\n",
            "Epoch 88/100\n",
            "250/250 [==============================] - 0s 865us/step - loss: 0.3438 - accuracy: 0.8583\n",
            "Epoch 89/100\n",
            "250/250 [==============================] - 0s 832us/step - loss: 0.3438 - accuracy: 0.8576\n",
            "Epoch 90/100\n",
            "250/250 [==============================] - 0s 834us/step - loss: 0.3436 - accuracy: 0.8575\n",
            "Epoch 91/100\n",
            "250/250 [==============================] - 0s 850us/step - loss: 0.3432 - accuracy: 0.8579\n",
            "Epoch 92/100\n",
            "250/250 [==============================] - 0s 845us/step - loss: 0.3434 - accuracy: 0.8571\n",
            "Epoch 93/100\n",
            "250/250 [==============================] - 0s 849us/step - loss: 0.3433 - accuracy: 0.8589\n",
            "Epoch 94/100\n",
            "250/250 [==============================] - 0s 829us/step - loss: 0.3430 - accuracy: 0.8579\n",
            "Epoch 95/100\n",
            "250/250 [==============================] - 0s 827us/step - loss: 0.3429 - accuracy: 0.8580\n",
            "Epoch 96/100\n",
            "250/250 [==============================] - 0s 883us/step - loss: 0.3428 - accuracy: 0.8586\n",
            "Epoch 97/100\n",
            "250/250 [==============================] - 0s 843us/step - loss: 0.3429 - accuracy: 0.8586\n",
            "Epoch 98/100\n",
            "250/250 [==============================] - 0s 838us/step - loss: 0.3421 - accuracy: 0.8579\n",
            "Epoch 99/100\n",
            "250/250 [==============================] - 0s 827us/step - loss: 0.3425 - accuracy: 0.8593\n",
            "Epoch 100/100\n",
            "250/250 [==============================] - 0s 841us/step - loss: 0.3423 - accuracy: 0.8579\n"
          ]
        },
        {
          "data": {
            "text/plain": [
              "<keras.src.callbacks.History at 0x7fed77900d30>"
            ]
          },
          "execution_count": 44,
          "metadata": {},
          "output_type": "execute_result"
        }
      ],
      "source": [
        "ann.fit(X_train, y_train, batch_size = 32, epochs = 100)"
      ]
    },
    {
      "cell_type": "markdown",
      "metadata": {},
      "source": [
        "#### Here we store the model for later use during inference\n"
      ]
    },
    {
      "cell_type": "code",
      "execution_count": 49,
      "metadata": {},
      "outputs": [],
      "source": [
        "import pickle\n",
        "pickle.dump(ann, open('model.pkl', 'wb'))"
      ]
    },
    {
      "cell_type": "markdown",
      "metadata": {
        "colab_type": "text",
        "id": "tJj5k2MxZga3"
      },
      "source": [
        "## Part 4 - Making the predictions and evaluating the model"
      ]
    },
    {
      "cell_type": "markdown",
      "metadata": {
        "colab_type": "text",
        "id": "84QFoqGYeXHL"
      },
      "source": [
        "### Predicting the result of a single observation"
      ]
    },
    {
      "cell_type": "markdown",
      "metadata": {
        "colab_type": "text",
        "id": "CGRo3eacgDdC"
      },
      "source": [
        "**Homework**\n",
        "\n",
        "Use our ANN model to predict if the customer with the following informations will leave the bank: \n",
        "\n",
        "Geography: France\n",
        "\n",
        "Credit Score: 600\n",
        "\n",
        "Gender: Male\n",
        "\n",
        "Age: 40 years old\n",
        "\n",
        "Tenure: 3 years\n",
        "\n",
        "Balance: \\$ 60000\n",
        "\n",
        "Number of Products: 2\n",
        "\n",
        "Does this customer have a credit card ? Yes\n",
        "\n",
        "Is this customer an Active Member: Yes\n",
        "\n",
        "Estimated Salary: \\$ 50000\n",
        "\n",
        "So, should we say goodbye to that customer ?"
      ]
    },
    {
      "cell_type": "markdown",
      "metadata": {
        "colab_type": "text",
        "id": "ZhU1LTgPg-kH"
      },
      "source": [
        "**Solution**\n",
        "\n",
        "During inference, we need to pay attention to the scaling of the input data. It needs to match the same scaling that we used on the training data. Hence the call to `sc.transform()`.\n",
        "\n",
        "Why not use `sc.fit()`? \n",
        "\n",
        "\"The fit(data) method is used to compute the mean and std dev for a given feature to be used further for scaling. The transform(data) method is used to perform scaling using mean and std dev calculated using the . fit() method. The fit_transform() method does both fits and transform\"\n",
        "\n",
        "See https://www.geeksforgeeks.org/what-is-the-difference-between-transform-and-fit_transform-in-sklearn-python/"
      ]
    },
    {
      "cell_type": "code",
      "execution_count": 50,
      "metadata": {
        "colab": {
          "base_uri": "https://localhost:8080/",
          "height": 34
        },
        "colab_type": "code",
        "id": "2d8IoCCkeWGL",
        "outputId": "957f3970-e197-4c3b-a150-7f69dc567f5d"
      },
      "outputs": [
        {
          "name": "stdout",
          "output_type": "stream",
          "text": [
            "1/1 [==============================] - 0s 35ms/step\n",
            "[[False]]\n"
          ]
        }
      ],
      "source": [
        "# load the previously saved scaler & model\n",
        "import pickle\n",
        "model = pickle.load(open(\"model.pkl\", 'rb'))\n",
        "scaler = pickle.load(open(\"scaler.pkl\", 'rb'))\n",
        "print(model.predict(scaler.transform([[1, 0, 0, 600, 1, 40, 3, 60000, 2, 1, 1, 50000]])) > 0.5)"
      ]
    },
    {
      "cell_type": "markdown",
      "metadata": {
        "colab_type": "text",
        "id": "wGjx94g2n7OV"
      },
      "source": [
        "Therefore, our ANN model predicts that this customer stays in the bank!\n",
        "\n",
        "**Important note 1:** Notice that the values of the features were all input in a double pair of square brackets. That's because the \"predict\" method always expects a 2D array as the format of its inputs. And putting our values into a double pair of square brackets makes the input exactly a 2D array.\n",
        "\n",
        "**Important note 2:** Notice also that the \"France\" country was not input as a string in the last column but as \"1, 0, 0\" in the first three columns. That's because of course the predict method expects the one-hot-encoded values of the state, and as we see in the first row of the matrix of features X, \"France\" was encoded as \"1, 0, 0\". And be careful to include these values in the first three columns, because the dummy variables are always created in the first columns."
      ]
    },
    {
      "cell_type": "markdown",
      "metadata": {
        "colab_type": "text",
        "id": "u7yx47jPZt11"
      },
      "source": [
        "### Predicting the Test set results"
      ]
    },
    {
      "cell_type": "code",
      "execution_count": null,
      "metadata": {
        "colab": {
          "base_uri": "https://localhost:8080/",
          "height": 137
        },
        "colab_type": "code",
        "id": "nIyEeQdRZwgs",
        "outputId": "82330ba8-9bdc-4fd1-d3cf-b6d78ee7c2a3"
      },
      "outputs": [
        {
          "name": "stdout",
          "output_type": "stream",
          "text": [
            " 1/63 [..............................] - ETA: 0s"
          ]
        },
        {
          "name": "stdout",
          "output_type": "stream",
          "text": [
            "63/63 [==============================] - 0s 709us/step\n",
            "[[0 0]\n",
            " [0 1]\n",
            " [0 0]\n",
            " ...\n",
            " [0 0]\n",
            " [0 0]\n",
            " [0 0]]\n"
          ]
        }
      ],
      "source": [
        "y_pred = ann.predict(X_test)\n",
        "y_pred = (y_pred > 0.5)\n",
        "print(np.concatenate((y_pred.reshape(len(y_pred),1), y_test.reshape(len(y_test),1)),1))"
      ]
    },
    {
      "cell_type": "markdown",
      "metadata": {
        "colab_type": "text",
        "id": "o0oyfLWoaEGw"
      },
      "source": [
        "### Making the Confusion Matrix"
      ]
    },
    {
      "cell_type": "code",
      "execution_count": null,
      "metadata": {
        "colab": {
          "base_uri": "https://localhost:8080/",
          "height": 68
        },
        "colab_type": "code",
        "id": "ci6K_r6LaF6P",
        "outputId": "4d854e9e-22d5-432f-f6e5-a102fe3ae0bd"
      },
      "outputs": [
        {
          "name": "stdout",
          "output_type": "stream",
          "text": [
            "[[1510   85]\n",
            " [ 200  205]]\n"
          ]
        },
        {
          "data": {
            "text/plain": [
              "0.8575"
            ]
          },
          "execution_count": 23,
          "metadata": {},
          "output_type": "execute_result"
        }
      ],
      "source": [
        "from sklearn.metrics import confusion_matrix, accuracy_score\n",
        "cm = confusion_matrix(y_test, y_pred)\n",
        "print(cm)\n",
        "accuracy_score(y_test, y_pred)"
      ]
    }
  ],
  "metadata": {
    "colab": {
      "collapsed_sections": [],
      "name": "artificial_neural_network.ipynb",
      "provenance": [],
      "toc_visible": true
    },
    "kernelspec": {
      "display_name": "Python 3",
      "name": "python3"
    },
    "language_info": {
      "codemirror_mode": {
        "name": "ipython",
        "version": 3
      },
      "file_extension": ".py",
      "mimetype": "text/x-python",
      "name": "python",
      "nbconvert_exporter": "python",
      "pygments_lexer": "ipython3",
      "version": "3.10.8"
    }
  },
  "nbformat": 4,
  "nbformat_minor": 0
}
