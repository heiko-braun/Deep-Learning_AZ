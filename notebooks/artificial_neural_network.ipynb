{
  "cells": [
    {
      "cell_type": "markdown",
      "metadata": {
        "colab_type": "text",
        "id": "lP6JLo1tGNBg"
      },
      "source": [
        "# Artificial Neural Network"
      ]
    },
    {
      "cell_type": "markdown",
      "metadata": {
        "colab_type": "text",
        "id": "gWZyYmS_UE_L"
      },
      "source": [
        "### Importing the libraries"
      ]
    },
    {
      "cell_type": "code",
      "execution_count": 57,
      "metadata": {
        "colab": {},
        "colab_type": "code",
        "id": "MxkJoQBkUIHC"
      },
      "outputs": [],
      "source": [
        "import numpy as np\n",
        "import pandas as pd\n",
        "import tensorflow as tf"
      ]
    },
    {
      "cell_type": "code",
      "execution_count": 58,
      "metadata": {
        "colab": {
          "base_uri": "https://localhost:8080/",
          "height": 34
        },
        "colab_type": "code",
        "id": "ZaTwK7ojXr2F",
        "outputId": "0b27a96d-d11a-43e8-ab4b-87c1f01896fe"
      },
      "outputs": [
        {
          "data": {
            "text/plain": [
              "'2.13.0'"
            ]
          },
          "execution_count": 58,
          "metadata": {},
          "output_type": "execute_result"
        }
      ],
      "source": [
        "tf.__version__"
      ]
    },
    {
      "cell_type": "markdown",
      "metadata": {
        "colab_type": "text",
        "id": "1E0Q3aoKUCRX"
      },
      "source": [
        "## Part 1 - Data Preprocessing"
      ]
    },
    {
      "cell_type": "markdown",
      "metadata": {
        "colab_type": "text",
        "id": "cKWAkFVGUU0Z"
      },
      "source": [
        "### Importing the dataset"
      ]
    },
    {
      "cell_type": "code",
      "execution_count": 59,
      "metadata": {
        "colab": {},
        "colab_type": "code",
        "id": "MXUkhkMfU4wq"
      },
      "outputs": [
        {
          "name": "stdout",
          "output_type": "stream",
          "text": [
            "Empty DataFrame\n",
            "Columns: [RowNumber, CustomerId, Surname, CreditScore, Geography, Gender, Age, Tenure, Balance, NumOfProducts, HasCrCard, IsActiveMember, EstimatedSalary, Exited]\n",
            "Index: []\n"
          ]
        }
      ],
      "source": [
        "dataset = pd.read_csv('../data/Churn_Modelling.csv')\n",
        "\n",
        "# when trainiug the model, we ignore irrelevant columns that don't have an impact in predictons (i.e. `customerId`, `surname`, etc)\n",
        "# also, the dependent variable (`exited`) is removed from the training data\n",
        "print(dataset.head(0))\n",
        "X = dataset.iloc[:, 3:-1].values\n",
        "y = dataset.iloc[:, -1].values"
      ]
    },
    {
      "cell_type": "code",
      "execution_count": 60,
      "metadata": {
        "colab": {
          "base_uri": "https://localhost:8080/",
          "height": 137
        },
        "colab_type": "code",
        "id": "VYP9cQTWbzuI",
        "outputId": "797e7a64-9bac-436a-8c9c-94437e5e7587"
      },
      "outputs": [
        {
          "name": "stdout",
          "output_type": "stream",
          "text": [
            "        0        1       2   3   4          5  6  7  8          9\n",
            "0     619   France  Female  42   2        0.0  1  1  1  101348.88\n",
            "1     608    Spain  Female  41   1   83807.86  1  0  1  112542.58\n",
            "2     502   France  Female  42   8   159660.8  3  1  0  113931.57\n",
            "3     699   France  Female  39   1        0.0  2  0  0   93826.63\n",
            "4     850    Spain  Female  43   2  125510.82  1  1  1    79084.1\n",
            "...   ...      ...     ...  ..  ..        ... .. .. ..        ...\n",
            "9995  771   France    Male  39   5        0.0  2  1  0   96270.64\n",
            "9996  516   France    Male  35  10   57369.61  1  1  1  101699.77\n",
            "9997  709   France  Female  36   7        0.0  1  0  1   42085.58\n",
            "9998  772  Germany    Male  42   3   75075.31  2  1  0   92888.52\n",
            "9999  792   France  Female  28   4  130142.79  1  1  0   38190.78\n",
            "\n",
            "[10000 rows x 10 columns]\n"
          ]
        }
      ],
      "source": [
        "# the independent variables\n",
        "print(pd.DataFrame(X))"
      ]
    },
    {
      "cell_type": "code",
      "execution_count": 61,
      "metadata": {
        "colab": {
          "base_uri": "https://localhost:8080/",
          "height": 34
        },
        "colab_type": "code",
        "id": "38vKGE6Nb2RR",
        "outputId": "a815e42a-e0dd-4cb5-ab97-b17ead98fbc3"
      },
      "outputs": [
        {
          "name": "stdout",
          "output_type": "stream",
          "text": [
            "      0\n",
            "0     1\n",
            "1     0\n",
            "2     1\n",
            "3     0\n",
            "4     0\n",
            "...  ..\n",
            "9995  0\n",
            "9996  0\n",
            "9997  1\n",
            "9998  1\n",
            "9999  0\n",
            "\n",
            "[10000 rows x 1 columns]\n"
          ]
        }
      ],
      "source": [
        "# the dependent variables\n",
        "print(pd.DataFrame(y))"
      ]
    },
    {
      "cell_type": "markdown",
      "metadata": {
        "colab_type": "text",
        "id": "N6bQ0UgSU-NJ"
      },
      "source": [
        "### Encoding categorical data\n",
        "\n",
        "Label encidong is used to encode column values into a numerical representation. This way you can feed it into the NN for computation.\n",
        "\n",
        "A brief overview of `Label` and `One-hot` (strange name), can be found here: \n",
        "\n",
        "https://towardsdatascience.com/categorical-encoding-using-label-encoding-and-one-hot-encoder-911ef77fb5bd"
      ]
    },
    {
      "cell_type": "markdown",
      "metadata": {
        "colab_type": "text",
        "id": "le5MJreAbW52"
      },
      "source": [
        "Label Encoding the \"Gender\" column\n",
        "\n",
        "This will replace `male`/`female` with `0` and `1` respectively."
      ]
    },
    {
      "cell_type": "code",
      "execution_count": 62,
      "metadata": {
        "colab": {},
        "colab_type": "code",
        "id": "PxVKWXxLbczC"
      },
      "outputs": [],
      "source": [
        "from sklearn.preprocessing import LabelEncoder\n",
        "le = LabelEncoder()\n",
        "X[:, 2] = le.fit_transform(X[:, 2])"
      ]
    },
    {
      "cell_type": "code",
      "execution_count": 63,
      "metadata": {
        "colab": {
          "base_uri": "https://localhost:8080/",
          "height": 137
        },
        "colab_type": "code",
        "id": "-M1KboxFb6OO",
        "outputId": "e2b8c7e8-0cbc-4cdf-f4eb-7f0853a00b88"
      },
      "outputs": [
        {
          "name": "stdout",
          "output_type": "stream",
          "text": [
            "      0\n",
            "0     0\n",
            "1     0\n",
            "2     0\n",
            "3     0\n",
            "4     0\n",
            "...  ..\n",
            "9995  1\n",
            "9996  1\n",
            "9997  0\n",
            "9998  1\n",
            "9999  0\n",
            "\n",
            "[10000 rows x 1 columns]\n"
          ]
        }
      ],
      "source": [
        "print(pd.DataFrame(X[:, 2]))"
      ]
    },
    {
      "cell_type": "markdown",
      "metadata": {
        "colab_type": "text",
        "id": "CUxGZezpbMcb"
      },
      "source": [
        "One Hot Encoding the \"Geography\" column\n",
        "\n",
        "This will create three new columns (since we started from three distinct geographic regions)."
      ]
    },
    {
      "cell_type": "code",
      "execution_count": 64,
      "metadata": {
        "colab": {},
        "colab_type": "code",
        "id": "AMXC8-KMVirw"
      },
      "outputs": [],
      "source": [
        "from sklearn.compose import ColumnTransformer\n",
        "from sklearn.preprocessing import OneHotEncoder\n",
        "ct = ColumnTransformer(transformers=[('encoder', OneHotEncoder(), [1])], remainder='passthrough')\n",
        "X = np.array(ct.fit_transform(X))"
      ]
    },
    {
      "cell_type": "code",
      "execution_count": 65,
      "metadata": {
        "colab": {
          "base_uri": "https://localhost:8080/",
          "height": 137
        },
        "colab_type": "code",
        "id": "ZcxwEon-b8nV",
        "outputId": "23a98af4-5e33-4b26-c27b-f06e3c5d2baf"
      },
      "outputs": [
        {
          "name": "stdout",
          "output_type": "stream",
          "text": [
            "        0    1    2\n",
            "0     1.0  0.0  0.0\n",
            "1     0.0  0.0  1.0\n",
            "2     1.0  0.0  0.0\n",
            "3     1.0  0.0  0.0\n",
            "4     0.0  0.0  1.0\n",
            "...   ...  ...  ...\n",
            "9995  1.0  0.0  0.0\n",
            "9996  1.0  0.0  0.0\n",
            "9997  1.0  0.0  0.0\n",
            "9998  0.0  1.0  0.0\n",
            "9999  1.0  0.0  0.0\n",
            "\n",
            "[10000 rows x 3 columns]\n"
          ]
        }
      ],
      "source": [
        "# the newly added columns\n",
        "print(pd.DataFrame(X[:, :3]))"
      ]
    },
    {
      "cell_type": "markdown",
      "metadata": {
        "colab_type": "text",
        "id": "vHol938cW8zd"
      },
      "source": [
        "### Splitting the dataset into the Training set and Test set"
      ]
    },
    {
      "cell_type": "code",
      "execution_count": 66,
      "metadata": {
        "colab": {},
        "colab_type": "code",
        "id": "Z-TDt0Y_XEfc"
      },
      "outputs": [],
      "source": [
        "from sklearn.model_selection import train_test_split\n",
        "X_train, X_test, y_train, y_test = train_test_split(X, y, test_size = 0.2, random_state = 0)"
      ]
    },
    {
      "cell_type": "markdown",
      "metadata": {
        "colab_type": "text",
        "id": "RE_FcHyfV3TQ"
      },
      "source": [
        "### Feature Scaling\n",
        "\n",
        "Scale the input features of a dataset to ensure that they are on a similar scale. This process can have a significant impact on the training process and the performance of the NN\n",
        "\n",
        "For a more elaborate explanation see https://www.analyticsvidhya.com/blog/2020/04/feature-scaling-machine-learning-normalization-standardization/"
      ]
    },
    {
      "cell_type": "code",
      "execution_count": 67,
      "metadata": {
        "colab": {},
        "colab_type": "code",
        "id": "ViCrE00rV8Sk"
      },
      "outputs": [],
      "source": [
        "from sklearn.preprocessing import StandardScaler\n",
        "sc = StandardScaler()\n",
        "X_train = sc.fit_transform(X_train)\n",
        "X_test = sc.transform(X_test)"
      ]
    },
    {
      "cell_type": "markdown",
      "metadata": {},
      "source": [
        "#### Here, we store the scaler for later use during inference"
      ]
    },
    {
      "cell_type": "code",
      "execution_count": 68,
      "metadata": {},
      "outputs": [],
      "source": [
        "import pickle\n",
        "\n",
        "# in prod, we should probaly serialize sc & model state for later use during inference.\n",
        "pickle.dump(sc, open('scaler.pkl', 'wb'))"
      ]
    },
    {
      "cell_type": "markdown",
      "metadata": {
        "colab_type": "text",
        "id": "KvdeScabXtlB"
      },
      "source": [
        "### Initializing the ANN"
      ]
    },
    {
      "cell_type": "code",
      "execution_count": 69,
      "metadata": {
        "colab": {},
        "colab_type": "code",
        "id": "3dtrScHxXQox"
      },
      "outputs": [],
      "source": [
        "ann = tf.keras.models.Sequential()"
      ]
    },
    {
      "cell_type": "markdown",
      "metadata": {
        "colab_type": "text",
        "id": "rP6urV6SX7kS"
      },
      "source": [
        "### Adding the input layer and the first hidden layer"
      ]
    },
    {
      "cell_type": "code",
      "execution_count": 70,
      "metadata": {
        "colab": {},
        "colab_type": "code",
        "id": "bppGycBXYCQr"
      },
      "outputs": [],
      "source": [
        "ann.add(tf.keras.layers.Dense(units=6, activation='relu'))"
      ]
    },
    {
      "cell_type": "markdown",
      "metadata": {
        "colab_type": "text",
        "id": "BELWAc_8YJze"
      },
      "source": [
        "### Adding the second hidden layer"
      ]
    },
    {
      "cell_type": "code",
      "execution_count": 71,
      "metadata": {
        "colab": {},
        "colab_type": "code",
        "id": "JneR0u0sYRTd"
      },
      "outputs": [],
      "source": [
        "ann.add(tf.keras.layers.Dense(units=6, activation='relu'))"
      ]
    },
    {
      "cell_type": "markdown",
      "metadata": {
        "colab_type": "text",
        "id": "OyNEe6RXYcU4"
      },
      "source": [
        "### Adding the output layer"
      ]
    },
    {
      "cell_type": "code",
      "execution_count": 72,
      "metadata": {
        "colab": {},
        "colab_type": "code",
        "id": "Cn3x41RBYfvY"
      },
      "outputs": [],
      "source": [
        "ann.add(tf.keras.layers.Dense(units=1, activation='sigmoid'))"
      ]
    },
    {
      "cell_type": "markdown",
      "metadata": {
        "colab_type": "text",
        "id": "JT4u2S1_Y4WG"
      },
      "source": [
        "## Part 3 - Training the ANN"
      ]
    },
    {
      "cell_type": "markdown",
      "metadata": {
        "colab_type": "text",
        "id": "8GWlJChhY_ZI"
      },
      "source": [
        "### Compiling the ANN"
      ]
    },
    {
      "cell_type": "code",
      "execution_count": 73,
      "metadata": {
        "colab": {},
        "colab_type": "code",
        "id": "fG3RrwDXZEaS"
      },
      "outputs": [],
      "source": [
        "ann.compile(optimizer = 'adam', loss = 'binary_crossentropy', metrics = ['accuracy'])"
      ]
    },
    {
      "cell_type": "markdown",
      "metadata": {
        "colab_type": "text",
        "id": "0QR_G5u7ZLSM"
      },
      "source": [
        "### Training the ANN on the Training set"
      ]
    },
    {
      "cell_type": "code",
      "execution_count": 74,
      "metadata": {
        "colab": {
          "base_uri": "https://localhost:8080/",
          "height": 1000
        },
        "colab_type": "code",
        "id": "nHZ-LKv_ZRb3",
        "outputId": "718cc4b0-b5aa-40f0-9b20-d3d31730a531"
      },
      "outputs": [
        {
          "name": "stdout",
          "output_type": "stream",
          "text": [
            "Epoch 1/100\n",
            "250/250 [==============================] - 1s 801us/step - loss: 0.5489 - accuracy: 0.7797\n",
            "Epoch 2/100\n",
            "250/250 [==============================] - 0s 829us/step - loss: 0.4926 - accuracy: 0.7960\n",
            "Epoch 3/100\n",
            "250/250 [==============================] - 0s 805us/step - loss: 0.4751 - accuracy: 0.7960\n",
            "Epoch 4/100\n",
            "250/250 [==============================] - 0s 839us/step - loss: 0.4578 - accuracy: 0.7984\n",
            "Epoch 5/100\n",
            "250/250 [==============================] - 0s 805us/step - loss: 0.4438 - accuracy: 0.8065\n",
            "Epoch 6/100\n",
            "250/250 [==============================] - 0s 800us/step - loss: 0.4372 - accuracy: 0.8106\n",
            "Epoch 7/100\n",
            "250/250 [==============================] - 0s 800us/step - loss: 0.4327 - accuracy: 0.8104\n",
            "Epoch 8/100\n",
            "250/250 [==============================] - 0s 810us/step - loss: 0.4295 - accuracy: 0.8114\n",
            "Epoch 9/100\n",
            "250/250 [==============================] - 0s 815us/step - loss: 0.4266 - accuracy: 0.8129\n",
            "Epoch 10/100\n",
            "250/250 [==============================] - 0s 806us/step - loss: 0.4239 - accuracy: 0.8158\n",
            "Epoch 11/100\n",
            "250/250 [==============================] - 0s 852us/step - loss: 0.4217 - accuracy: 0.8169\n",
            "Epoch 12/100\n",
            "250/250 [==============================] - 0s 988us/step - loss: 0.4198 - accuracy: 0.8170\n",
            "Epoch 13/100\n",
            "250/250 [==============================] - 0s 799us/step - loss: 0.4178 - accuracy: 0.8194\n",
            "Epoch 14/100\n",
            "250/250 [==============================] - 0s 800us/step - loss: 0.4159 - accuracy: 0.8202\n",
            "Epoch 15/100\n",
            "250/250 [==============================] - 0s 789us/step - loss: 0.4148 - accuracy: 0.8199\n",
            "Epoch 16/100\n",
            "250/250 [==============================] - 0s 790us/step - loss: 0.4136 - accuracy: 0.8194\n",
            "Epoch 17/100\n",
            "250/250 [==============================] - 0s 802us/step - loss: 0.4123 - accuracy: 0.8207\n",
            "Epoch 18/100\n",
            "250/250 [==============================] - 0s 798us/step - loss: 0.4115 - accuracy: 0.8219\n",
            "Epoch 19/100\n",
            "250/250 [==============================] - 0s 789us/step - loss: 0.4105 - accuracy: 0.8227\n",
            "Epoch 20/100\n",
            "250/250 [==============================] - 0s 803us/step - loss: 0.4094 - accuracy: 0.8231\n",
            "Epoch 21/100\n",
            "250/250 [==============================] - 0s 798us/step - loss: 0.4087 - accuracy: 0.8241\n",
            "Epoch 22/100\n",
            "250/250 [==============================] - 0s 829us/step - loss: 0.4072 - accuracy: 0.8249\n",
            "Epoch 23/100\n",
            "250/250 [==============================] - 0s 792us/step - loss: 0.4061 - accuracy: 0.8261\n",
            "Epoch 24/100\n",
            "250/250 [==============================] - 0s 797us/step - loss: 0.4040 - accuracy: 0.8274\n",
            "Epoch 25/100\n",
            "250/250 [==============================] - 0s 791us/step - loss: 0.4031 - accuracy: 0.8292\n",
            "Epoch 26/100\n",
            "250/250 [==============================] - 0s 806us/step - loss: 0.4002 - accuracy: 0.8290\n",
            "Epoch 27/100\n",
            "250/250 [==============================] - 0s 805us/step - loss: 0.3971 - accuracy: 0.8326\n",
            "Epoch 28/100\n",
            "250/250 [==============================] - 0s 794us/step - loss: 0.3937 - accuracy: 0.8341\n",
            "Epoch 29/100\n",
            "250/250 [==============================] - 0s 808us/step - loss: 0.3891 - accuracy: 0.8361\n",
            "Epoch 30/100\n",
            "250/250 [==============================] - 0s 863us/step - loss: 0.3829 - accuracy: 0.8391\n",
            "Epoch 31/100\n",
            "250/250 [==============================] - 0s 803us/step - loss: 0.3769 - accuracy: 0.8393\n",
            "Epoch 32/100\n",
            "250/250 [==============================] - 0s 848us/step - loss: 0.3729 - accuracy: 0.8418\n",
            "Epoch 33/100\n",
            "250/250 [==============================] - 0s 793us/step - loss: 0.3688 - accuracy: 0.8446\n",
            "Epoch 34/100\n",
            "250/250 [==============================] - 0s 795us/step - loss: 0.3659 - accuracy: 0.8438\n",
            "Epoch 35/100\n",
            "250/250 [==============================] - 0s 844us/step - loss: 0.3638 - accuracy: 0.8453\n",
            "Epoch 36/100\n",
            "250/250 [==============================] - 0s 831us/step - loss: 0.3619 - accuracy: 0.8469\n",
            "Epoch 37/100\n",
            "250/250 [==============================] - 0s 1ms/step - loss: 0.3603 - accuracy: 0.8482\n",
            "Epoch 38/100\n",
            "250/250 [==============================] - 0s 793us/step - loss: 0.3594 - accuracy: 0.8470\n",
            "Epoch 39/100\n",
            "250/250 [==============================] - 0s 794us/step - loss: 0.3583 - accuracy: 0.8485\n",
            "Epoch 40/100\n",
            "250/250 [==============================] - 0s 797us/step - loss: 0.3575 - accuracy: 0.8476\n",
            "Epoch 41/100\n",
            "250/250 [==============================] - 0s 810us/step - loss: 0.3563 - accuracy: 0.8491\n",
            "Epoch 42/100\n",
            "250/250 [==============================] - 0s 831us/step - loss: 0.3558 - accuracy: 0.8490\n",
            "Epoch 43/100\n",
            "250/250 [==============================] - 0s 795us/step - loss: 0.3551 - accuracy: 0.8474\n",
            "Epoch 44/100\n",
            "250/250 [==============================] - 0s 788us/step - loss: 0.3544 - accuracy: 0.8511\n",
            "Epoch 45/100\n",
            "250/250 [==============================] - 0s 808us/step - loss: 0.3534 - accuracy: 0.8514\n",
            "Epoch 46/100\n",
            "250/250 [==============================] - 0s 802us/step - loss: 0.3520 - accuracy: 0.8526\n",
            "Epoch 47/100\n",
            "250/250 [==============================] - 0s 809us/step - loss: 0.3509 - accuracy: 0.8545\n",
            "Epoch 48/100\n",
            "250/250 [==============================] - 0s 796us/step - loss: 0.3493 - accuracy: 0.8556\n",
            "Epoch 49/100\n",
            "250/250 [==============================] - 0s 823us/step - loss: 0.3479 - accuracy: 0.8553\n",
            "Epoch 50/100\n",
            "250/250 [==============================] - 0s 797us/step - loss: 0.3468 - accuracy: 0.8575\n",
            "Epoch 51/100\n",
            "250/250 [==============================] - 0s 806us/step - loss: 0.3457 - accuracy: 0.8583\n",
            "Epoch 52/100\n",
            "250/250 [==============================] - 0s 823us/step - loss: 0.3446 - accuracy: 0.8604\n",
            "Epoch 53/100\n",
            "250/250 [==============================] - 0s 796us/step - loss: 0.3440 - accuracy: 0.8587\n",
            "Epoch 54/100\n",
            "250/250 [==============================] - 0s 789us/step - loss: 0.3434 - accuracy: 0.8614\n",
            "Epoch 55/100\n",
            "250/250 [==============================] - 0s 872us/step - loss: 0.3424 - accuracy: 0.8616\n",
            "Epoch 56/100\n",
            "250/250 [==============================] - 0s 827us/step - loss: 0.3419 - accuracy: 0.8630\n",
            "Epoch 57/100\n",
            "250/250 [==============================] - 0s 795us/step - loss: 0.3412 - accuracy: 0.8636\n",
            "Epoch 58/100\n",
            "250/250 [==============================] - 0s 800us/step - loss: 0.3406 - accuracy: 0.8636\n",
            "Epoch 59/100\n",
            "250/250 [==============================] - 0s 826us/step - loss: 0.3402 - accuracy: 0.8600\n",
            "Epoch 60/100\n",
            "250/250 [==============================] - 0s 802us/step - loss: 0.3398 - accuracy: 0.8633\n",
            "Epoch 61/100\n",
            "250/250 [==============================] - 0s 948us/step - loss: 0.3395 - accuracy: 0.8636\n",
            "Epoch 62/100\n",
            "250/250 [==============================] - 0s 836us/step - loss: 0.3393 - accuracy: 0.8618\n",
            "Epoch 63/100\n",
            "250/250 [==============================] - 0s 791us/step - loss: 0.3391 - accuracy: 0.8630\n",
            "Epoch 64/100\n",
            "250/250 [==============================] - 0s 796us/step - loss: 0.3383 - accuracy: 0.8639\n",
            "Epoch 65/100\n",
            "250/250 [==============================] - 0s 788us/step - loss: 0.3380 - accuracy: 0.8625\n",
            "Epoch 66/100\n",
            "250/250 [==============================] - 0s 798us/step - loss: 0.3375 - accuracy: 0.8634\n",
            "Epoch 67/100\n",
            "250/250 [==============================] - 0s 798us/step - loss: 0.3373 - accuracy: 0.8637\n",
            "Epoch 68/100\n",
            "250/250 [==============================] - 0s 791us/step - loss: 0.3373 - accuracy: 0.8639\n",
            "Epoch 69/100\n",
            "250/250 [==============================] - 0s 810us/step - loss: 0.3366 - accuracy: 0.8622\n",
            "Epoch 70/100\n",
            "250/250 [==============================] - 0s 793us/step - loss: 0.3365 - accuracy: 0.8645\n",
            "Epoch 71/100\n",
            "250/250 [==============================] - 0s 804us/step - loss: 0.3363 - accuracy: 0.8630\n",
            "Epoch 72/100\n",
            "250/250 [==============================] - 0s 855us/step - loss: 0.3360 - accuracy: 0.8636\n",
            "Epoch 73/100\n",
            "250/250 [==============================] - 0s 802us/step - loss: 0.3357 - accuracy: 0.8645\n",
            "Epoch 74/100\n",
            "250/250 [==============================] - 0s 803us/step - loss: 0.3354 - accuracy: 0.8650\n",
            "Epoch 75/100\n",
            "250/250 [==============================] - 0s 803us/step - loss: 0.3356 - accuracy: 0.8646\n",
            "Epoch 76/100\n",
            "250/250 [==============================] - 0s 799us/step - loss: 0.3351 - accuracy: 0.8631\n",
            "Epoch 77/100\n",
            "250/250 [==============================] - 0s 800us/step - loss: 0.3351 - accuracy: 0.8646\n",
            "Epoch 78/100\n",
            "250/250 [==============================] - 0s 787us/step - loss: 0.3353 - accuracy: 0.8641\n",
            "Epoch 79/100\n",
            "250/250 [==============================] - 0s 802us/step - loss: 0.3349 - accuracy: 0.8652\n",
            "Epoch 80/100\n",
            "250/250 [==============================] - 0s 860us/step - loss: 0.3345 - accuracy: 0.8621\n",
            "Epoch 81/100\n",
            "250/250 [==============================] - 0s 797us/step - loss: 0.3349 - accuracy: 0.8644\n",
            "Epoch 82/100\n",
            "250/250 [==============================] - 0s 810us/step - loss: 0.3343 - accuracy: 0.8666\n",
            "Epoch 83/100\n",
            "250/250 [==============================] - 0s 795us/step - loss: 0.3344 - accuracy: 0.8649\n",
            "Epoch 84/100\n",
            "250/250 [==============================] - 0s 809us/step - loss: 0.3341 - accuracy: 0.8640\n",
            "Epoch 85/100\n",
            "250/250 [==============================] - 0s 804us/step - loss: 0.3342 - accuracy: 0.8649\n",
            "Epoch 86/100\n",
            "250/250 [==============================] - 0s 796us/step - loss: 0.3342 - accuracy: 0.8662\n",
            "Epoch 87/100\n",
            "250/250 [==============================] - 0s 799us/step - loss: 0.3340 - accuracy: 0.8652\n",
            "Epoch 88/100\n",
            "250/250 [==============================] - 0s 797us/step - loss: 0.3338 - accuracy: 0.8645\n",
            "Epoch 89/100\n",
            "250/250 [==============================] - 0s 794us/step - loss: 0.3336 - accuracy: 0.8670\n",
            "Epoch 90/100\n",
            "250/250 [==============================] - 0s 803us/step - loss: 0.3340 - accuracy: 0.8664\n",
            "Epoch 91/100\n",
            "250/250 [==============================] - 0s 795us/step - loss: 0.3336 - accuracy: 0.8655\n",
            "Epoch 92/100\n",
            "250/250 [==============================] - 0s 838us/step - loss: 0.3332 - accuracy: 0.8658\n",
            "Epoch 93/100\n",
            "250/250 [==============================] - 0s 791us/step - loss: 0.3332 - accuracy: 0.8652\n",
            "Epoch 94/100\n",
            "250/250 [==============================] - 0s 807us/step - loss: 0.3337 - accuracy: 0.8649\n",
            "Epoch 95/100\n",
            "250/250 [==============================] - 0s 821us/step - loss: 0.3333 - accuracy: 0.8649\n",
            "Epoch 96/100\n",
            "250/250 [==============================] - 0s 810us/step - loss: 0.3329 - accuracy: 0.8658\n",
            "Epoch 97/100\n",
            "250/250 [==============================] - 0s 797us/step - loss: 0.3333 - accuracy: 0.8658\n",
            "Epoch 98/100\n",
            "250/250 [==============================] - 0s 810us/step - loss: 0.3334 - accuracy: 0.8660\n",
            "Epoch 99/100\n",
            "250/250 [==============================] - 0s 802us/step - loss: 0.3331 - accuracy: 0.8666\n",
            "Epoch 100/100\n",
            "250/250 [==============================] - 0s 804us/step - loss: 0.3330 - accuracy: 0.8658\n"
          ]
        },
        {
          "data": {
            "text/plain": [
              "<keras.src.callbacks.History at 0x7fe24e1a4940>"
            ]
          },
          "execution_count": 74,
          "metadata": {},
          "output_type": "execute_result"
        }
      ],
      "source": [
        "ann.fit(X_train, y_train, batch_size = 32, epochs = 100)"
      ]
    },
    {
      "cell_type": "markdown",
      "metadata": {},
      "source": [
        "#### Here we store the model for later use during inference\n"
      ]
    },
    {
      "cell_type": "code",
      "execution_count": 75,
      "metadata": {},
      "outputs": [],
      "source": [
        "import pickle\n",
        "pickle.dump(ann, open('model.pkl', 'wb'))"
      ]
    },
    {
      "cell_type": "markdown",
      "metadata": {
        "colab_type": "text",
        "id": "tJj5k2MxZga3"
      },
      "source": [
        "## Part 4 - Making the predictions and evaluating the model"
      ]
    },
    {
      "cell_type": "markdown",
      "metadata": {
        "colab_type": "text",
        "id": "84QFoqGYeXHL"
      },
      "source": [
        "### Predicting the result of a single observation"
      ]
    },
    {
      "cell_type": "markdown",
      "metadata": {
        "colab_type": "text",
        "id": "CGRo3eacgDdC"
      },
      "source": [
        "**Homework**\n",
        "\n",
        "Use our ANN model to predict if the customer with the following informations will leave the bank: \n",
        "\n",
        "Geography: France\n",
        "\n",
        "Credit Score: 600\n",
        "\n",
        "Gender: Male\n",
        "\n",
        "Age: 40 years old\n",
        "\n",
        "Tenure: 3 years\n",
        "\n",
        "Balance: \\$ 60000\n",
        "\n",
        "Number of Products: 2\n",
        "\n",
        "Does this customer have a credit card ? Yes\n",
        "\n",
        "Is this customer an Active Member: Yes\n",
        "\n",
        "Estimated Salary: \\$ 50000\n",
        "\n",
        "So, should we say goodbye to that customer ?"
      ]
    },
    {
      "cell_type": "markdown",
      "metadata": {
        "colab_type": "text",
        "id": "ZhU1LTgPg-kH"
      },
      "source": [
        "**Solution**\n",
        "\n",
        "During inference, we need to pay attention to the scaling of the input data. It needs to match the same scaling that we used on the training data. Hence the call to `sc.transform()`.\n",
        "\n",
        "Why not use `sc.fit()`? \n",
        "\n",
        "\"The fit(data) method is used to compute the mean and std dev for a given feature to be used further for scaling. The transform(data) method is used to perform scaling using mean and std dev calculated using the . fit() method. The fit_transform() method does both fits and transform\"\n",
        "\n",
        "See https://www.geeksforgeeks.org/what-is-the-difference-between-transform-and-fit_transform-in-sklearn-python/"
      ]
    },
    {
      "cell_type": "code",
      "execution_count": 76,
      "metadata": {
        "colab": {
          "base_uri": "https://localhost:8080/",
          "height": 34
        },
        "colab_type": "code",
        "id": "2d8IoCCkeWGL",
        "outputId": "957f3970-e197-4c3b-a150-7f69dc567f5d"
      },
      "outputs": [
        {
          "name": "stdout",
          "output_type": "stream",
          "text": [
            "1/1 [==============================] - 0s 34ms/step\n",
            "[[False]]\n"
          ]
        }
      ],
      "source": [
        "# load the previously saved scaler & model\n",
        "import pickle\n",
        "model = pickle.load(open(\"model.pkl\", 'rb'))\n",
        "scaler = pickle.load(open(\"scaler.pkl\", 'rb'))\n",
        "print(model.predict(scaler.transform([[1, 0, 0, 600, 1, 40, 3, 60000, 2, 1, 1, 50000]])) > 0.5)"
      ]
    },
    {
      "cell_type": "markdown",
      "metadata": {
        "colab_type": "text",
        "id": "wGjx94g2n7OV"
      },
      "source": [
        "Therefore, our ANN model predicts that this customer stays in the bank!\n",
        "\n",
        "**Important note 1:** Notice that the values of the features were all input in a double pair of square brackets. That's because the \"predict\" method always expects a 2D array as the format of its inputs. And putting our values into a double pair of square brackets makes the input exactly a 2D array.\n",
        "\n",
        "**Important note 2:** Notice also that the \"France\" country was not input as a string in the last column but as \"1, 0, 0\" in the first three columns. That's because of course the predict method expects the one-hot-encoded values of the state, and as we see in the first row of the matrix of features X, \"France\" was encoded as \"1, 0, 0\". And be careful to include these values in the first three columns, because the dummy variables are always created in the first columns."
      ]
    },
    {
      "cell_type": "markdown",
      "metadata": {
        "colab_type": "text",
        "id": "u7yx47jPZt11"
      },
      "source": [
        "### Predicting the Test set results"
      ]
    },
    {
      "cell_type": "code",
      "execution_count": 77,
      "metadata": {},
      "outputs": [
        {
          "name": "stdout",
          "output_type": "stream",
          "text": [
            " 1/63 [..............................] - ETA: 0s"
          ]
        },
        {
          "name": "stdout",
          "output_type": "stream",
          "text": [
            "63/63 [==============================] - 0s 657us/step\n",
            "[[0 0]\n",
            " [0 1]\n",
            " [0 0]\n",
            " ...\n",
            " [0 0]\n",
            " [0 0]\n",
            " [0 0]]\n"
          ]
        }
      ],
      "source": [
        "y_pred = model.predict(X_test)\n",
        "y_pred = (y_pred > .5)\n",
        "print(np.concatenate((y_pred.reshape(len(y_pred),1), y_test.reshape(len(y_test),1)),1))"
      ]
    },
    {
      "cell_type": "markdown",
      "metadata": {
        "colab_type": "text",
        "id": "o0oyfLWoaEGw"
      },
      "source": [
        "### Making the Confusion Matrix\n",
        "\n",
        "See https://www.simplilearn.com/tutorials/machine-learning-tutorial/confusion-matrix-machine-learning"
      ]
    },
    {
      "cell_type": "code",
      "execution_count": 78,
      "metadata": {},
      "outputs": [
        {
          "data": {
            "image/jpeg": "[encoded data removed]",
            "text/plain": [
              "<IPython.core.display.Image object>"
            ]
          },
          "execution_count": 78,
          "metadata": {},
          "output_type": "execute_result"
        }
      ],
      "source": [
        "from IPython.display import Image\n",
        "Image(\"https://www.simplilearn.com/ice9/free_resources_article_thumb/confusion-matrix.JPG\")"
      ]
    },
    {
      "cell_type": "code",
      "execution_count": 79,
      "metadata": {},
      "outputs": [
        {
          "name": "stdout",
          "output_type": "stream",
          "text": [
            "[[1507   88]\n",
            " [ 195  210]]\n"
          ]
        },
        {
          "data": {
            "text/plain": [
              "0.8585"
            ]
          },
          "execution_count": 79,
          "metadata": {},
          "output_type": "execute_result"
        }
      ],
      "source": [
        "from sklearn.metrics import confusion_matrix, accuracy_score\n",
        "cm = confusion_matrix(y_test, y_pred)\n",
        "print(cm)\n",
        "accuracy_score(y_test, y_pred)"
      ]
    }
  ],
  "metadata": {
    "colab": {
      "collapsed_sections": [],
      "name": "artificial_neural_network.ipynb",
      "provenance": [],
      "toc_visible": true
    },
    "kernelspec": {
      "display_name": "Python 3",
      "name": "python3"
    },
    "language_info": {
      "codemirror_mode": {
        "name": "ipython",
        "version": 3
      },
      "file_extension": ".py",
      "mimetype": "text/x-python",
      "name": "python",
      "nbconvert_exporter": "python",
      "pygments_lexer": "ipython3",
      "version": "3.10.8"
    }
  },
  "nbformat": 4,
  "nbformat_minor": 0
}
